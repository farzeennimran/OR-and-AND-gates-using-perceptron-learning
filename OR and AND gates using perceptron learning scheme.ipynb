{
  "nbformat": 4,
  "nbformat_minor": 0,
  "metadata": {
    "colab": {
      "provenance": []
    },
    "kernelspec": {
      "name": "python3",
      "display_name": "Python 3"
    },
    "language_info": {
      "name": "python"
    }
  },
  "cells": [
    {
      "cell_type": "code",
      "source": [
        "import numpy as np"
      ],
      "metadata": {
        "id": "BZot2xqNuGOw"
      },
      "execution_count": null,
      "outputs": []
    },
    {
      "cell_type": "code",
      "source": [
        "class Perceptron:\n",
        "    def __init__(self, input_size, learning_rate=0.1, epochs=100):\n",
        "        self.weights = np.zeros(input_size + 1)\n",
        "        self.learning_rate = learning_rate\n",
        "        self.epochs = epochs\n",
        "\n",
        "    def predict(self, inputs):\n",
        "        summation = np.dot(inputs, self.weights[1:]) + self.weights[0]\n",
        "        return 1 if summation > 0 else 0\n",
        "\n",
        "    def train(self, training_inputs, labels):\n",
        "        for _ in range(self.epochs):\n",
        "            for inputs, label in zip(training_inputs, labels):\n",
        "                prediction = self.predict(inputs)\n",
        "                self.weights[1:] += self.learning_rate * (label - prediction) * inputs\n",
        "                self.weights[0] += self.learning_rate * (label - prediction)"
      ],
      "metadata": {
        "id": "3UWXItoZuJ16"
      },
      "execution_count": null,
      "outputs": []
    },
    {
      "cell_type": "code",
      "execution_count": null,
      "metadata": {
        "id": "c8T1zHf-rlxL"
      },
      "outputs": [],
      "source": [
        "#OR gate training data\n",
        "training_inputs_or = np.array([[0, 0], [0, 1], [1, 0], [1, 1]])\n",
        "y_actual_OR = np.array([0, 1, 1, 1])\n",
        "\n",
        "#AND gate training data\n",
        "training_inputs_and = np.array([[0, 0], [0, 1], [1, 0], [1, 1]])\n",
        "y_actual_AND = np.array([0, 0, 0, 1])\n",
        "\n",
        "#Training OR gate perceptron\n",
        "or_gate = Perceptron(input_size=2)\n",
        "or_gate.train(training_inputs_or, y_actual_OR)\n",
        "\n",
        "#Training AND gate perceptron\n",
        "and_gate = Perceptron(input_size=2)\n",
        "and_gate.train(training_inputs_and, y_actual_AND)"
      ]
    },
    {
      "cell_type": "code",
      "source": [
        "#Testing OR gate\n",
        "print(\"OR Gate:\")\n",
        "print(\"inputs\", \" \", \"y\", \" \", \" y hat\")\n",
        "for inputs, actual_label in zip(training_inputs_or, y_actual_OR):\n",
        "    predicted = or_gate.predict(inputs)\n",
        "    print(f\"{inputs} -> {actual_label} -> {predicted}\")\n",
        "\n",
        "#Testing AND gate\n",
        "print(\"\\nAND Gate:\")\n",
        "print(\"inputs\", \" \", \"y\", \" \", \" y hat\")\n",
        "for inputs, actual_label in zip(training_inputs_and, y_actual_AND):\n",
        "    predicted = and_gate.predict(inputs)\n",
        "    print(f\"{inputs} -> {actual_label} -> {predicted}\")"
      ],
      "metadata": {
        "colab": {
          "base_uri": "https://localhost:8080/"
        },
        "id": "-CZ-hSG-wmgX",
        "outputId": "2f39b2ba-5bf4-4d81-b81a-1b18b975d97f"
      },
      "execution_count": null,
      "outputs": [
        {
          "output_type": "stream",
          "name": "stdout",
          "text": [
            "OR Gate:\n",
            "inputs   y    y hat\n",
            "[0 0] -> 0 -> 0\n",
            "[0 1] -> 1 -> 1\n",
            "[1 0] -> 1 -> 1\n",
            "[1 1] -> 1 -> 1\n",
            "\n",
            "AND Gate:\n",
            "inputs   y    y hat\n",
            "[0 0] -> 0 -> 0\n",
            "[0 1] -> 0 -> 0\n",
            "[1 0] -> 0 -> 0\n",
            "[1 1] -> 1 -> 1\n"
          ]
        }
      ]
    }
  ]
}